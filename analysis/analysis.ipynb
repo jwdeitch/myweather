{
 "cells": [
  {
   "cell_type": "code",
   "execution_count": 1,
   "metadata": {
    "collapsed": false
   },
   "outputs": [],
   "source": [
    "import re\n",
    "import pandas as pd\n",
    "from dateutil.parser import parse as dateparse"
   ]
  },
  {
   "cell_type": "code",
   "execution_count": 10,
   "metadata": {
    "collapsed": false
   },
   "outputs": [],
   "source": [
    "# needed because of some weird unicode error I didn't feel like figuring out\n",
    "!grep user_input seanweather.log > zipcodes_only.txt"
   ]
  },
  {
   "cell_type": "code",
   "execution_count": 11,
   "metadata": {
    "collapsed": false
   },
   "outputs": [
    {
     "name": "stdout",
     "output_type": "stream",
     "text": [
      "    2152 zipcodes_only.txt\r\n"
     ]
    }
   ],
   "source": [
    "!wc -l zipcodes_only.txt"
   ]
  },
  {
   "cell_type": "code",
   "execution_count": 12,
   "metadata": {
    "collapsed": false
   },
   "outputs": [
    {
     "name": "stdout",
     "output_type": "stream",
     "text": [
      "[pid: 3267|app: 0|req: 9/9] 158.222.149.75 () {42 vars in 1138 bytes} [Sat Apr 16 19:34:17 2016] GET /?user_input=94110&num_hours=96 => generated 15759 bytes in 782 msecs (HTTP/1.1 200) 3 headers in 294 bytes (1 switches on core 0)\r\n"
     ]
    }
   ],
   "source": [
    "!head -n1 zipcodes_only.txt"
   ]
  },
  {
   "cell_type": "code",
   "execution_count": null,
   "metadata": {
    "collapsed": true
   },
   "outputs": [],
   "source": []
  },
  {
   "cell_type": "code",
   "execution_count": 13,
   "metadata": {
    "collapsed": false
   },
   "outputs": [
    {
     "data": {
      "text/plain": [
       "datetime.date(2014, 2, 1)"
      ]
     },
     "execution_count": 13,
     "metadata": {},
     "output_type": "execute_result"
    }
   ],
   "source": [
    "dateparse('Sat Feb  1 21:32:21 2014').date()"
   ]
  },
  {
   "cell_type": "code",
   "execution_count": 18,
   "metadata": {
    "collapsed": false
   },
   "outputs": [],
   "source": [
    "pattern = re.compile(r'bytes\\}\\s+\\[(.*)\\].*user_input=(.*)&')\n",
    "with open('cleaned.csv', 'w') as outfile:\n",
    "    print('date,zipcode', file=outfile)\n",
    "    for line in open('zipcodes_only.txt'):\n",
    "        m = re.search(pattern, line)\n",
    "        if m is None:\n",
    "            continue\n",
    "        date, zipcode = m.group(1), m.group(2)\n",
    "        date = dateparse(date).date()\n",
    "        print(date, zipcode, file=outfile, sep=',')"
   ]
  },
  {
   "cell_type": "code",
   "execution_count": 20,
   "metadata": {
    "collapsed": false
   },
   "outputs": [
    {
     "name": "stderr",
     "output_type": "stream",
     "text": [
      "/Users/seanharnett/miniconda3/envs/p3/lib/python3.4/site-packages/ipykernel/__main__.py:5: FutureWarning: order is deprecated, use sort_values(...)\n"
     ]
    },
    {
     "data": {
      "text/plain": [
       "zipcode\n",
       "10003                165\n",
       "12180                104\n",
       "11105                 86\n",
       "11215                 79\n",
       "10027                 55\n",
       "94110                 50\n",
       "19930                 41\n",
       "22030                 37\n",
       "10002                 29\n",
       "94618                 22\n",
       "Mclean                12\n",
       "McLean                12\n",
       "London                12\n",
       "10012                 11\n",
       "08046                 10\n",
       "02139                 10\n",
       "Boston+ma              7\n",
       "Front+royal%2C+va      7\n",
       "Luray%2C+va            6\n",
       "Boston                 6\n",
       "dtype: int64"
      ]
     },
     "execution_count": 20,
     "metadata": {},
     "output_type": "execute_result"
    }
   ],
   "source": [
    "data = pd.read_csv('cleaned.csv', dtype=str)\n",
    "cutoff = '2017-02-01'\n",
    "data = data.query('date >= @cutoff')\n",
    "agg = data.groupby('zipcode').size()\n",
    "agg.order(ascending=False).head(20)"
   ]
  },
  {
   "cell_type": "code",
   "execution_count": 13,
   "metadata": {
    "collapsed": false
   },
   "outputs": [
    {
     "data": {
      "text/plain": [
       "date        zipcode\n",
       "2015-02-10  94110      1\n",
       "2015-02-11  10027      2\n",
       "2015-02-12  10027      2\n",
       "2015-02-13  10027      1\n",
       "2015-02-14  10027      3\n",
       "2015-02-15  05350      1\n",
       "            10027      4\n",
       "2015-02-16  10027      6\n",
       "2015-02-17  10010      1\n",
       "            10027      5\n",
       "            10065      1\n",
       "            94110      1\n",
       "2015-02-18  10027      3\n",
       "2015-02-19  08901      1\n",
       "            10025      1\n",
       "            10027      4\n",
       "            94110      3\n",
       "            96143      1\n",
       "2015-02-20  10027      4\n",
       "2015-02-21  10027      2\n",
       "2015-02-22  10027      3\n",
       "            92109      1\n",
       "2015-02-23  10027      1\n",
       "            37401      4\n",
       "2015-02-24  10027      9\n",
       "            11205      3\n",
       "            35987      3\n",
       "            37401      4\n",
       "2015-02-25  11205      1\n",
       "            37401      1\n",
       "2015-02-26  10027      6\n",
       "            37401      2\n",
       "2015-02-27  11205      1\n",
       "            89044      4\n",
       "2015-02-28  10027      2\n",
       "            11205      1\n",
       "            89044      2\n",
       "            92109      2\n",
       "2015-03-01  02139      1\n",
       "            10027      3\n",
       "            89044      1\n",
       "            92109      1\n",
       "2015-03-02  10027      4\n",
       "            89044      1\n",
       "2015-03-03  08901      1\n",
       "            10027      2\n",
       "2015-03-04  08901      2\n",
       "            10027      5\n",
       "            11205      2\n",
       "2015-03-05  10027      1\n",
       "dtype: int64"
      ]
     },
     "execution_count": 13,
     "metadata": {},
     "output_type": "execute_result"
    }
   ],
   "source": [
    "agg = data.groupby(['date', 'zipcode']).size()\n",
    "agg.tail(50)"
   ]
  },
  {
   "cell_type": "code",
   "execution_count": null,
   "metadata": {
    "collapsed": true
   },
   "outputs": [],
   "source": []
  }
 ],
 "metadata": {
  "kernelspec": {
   "display_name": "Python 3",
   "language": "python",
   "name": "python3"
  },
  "language_info": {
   "codemirror_mode": {
    "name": "ipython",
    "version": 3
   },
   "file_extension": ".py",
   "mimetype": "text/x-python",
   "name": "python",
   "nbconvert_exporter": "python",
   "pygments_lexer": "ipython3",
   "version": "3.4.5"
  }
 },
 "nbformat": 4,
 "nbformat_minor": 0
}
