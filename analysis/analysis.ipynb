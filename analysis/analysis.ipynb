{
 "cells": [
  {
   "cell_type": "code",
   "execution_count": 1,
   "metadata": {
    "collapsed": false
   },
   "outputs": [],
   "source": [
    "import re\n",
    "import pandas as pd\n",
    "from dateutil.parser import parse as dateparse"
   ]
  },
  {
   "cell_type": "code",
   "execution_count": 2,
   "metadata": {
    "collapsed": false
   },
   "outputs": [],
   "source": [
    "# needed because of some weird unicode error I didn't feel like figuring out\n",
    "!grep zipcode seanweather.log > zipcodes_only.txt"
   ]
  },
  {
   "cell_type": "code",
   "execution_count": 3,
   "metadata": {
    "collapsed": false
   },
   "outputs": [
    {
     "name": "stdout",
     "output_type": "stream",
     "text": [
      "[pid: 19160|app: 0|req: 1/1] 128.59.46.47 () {44 vars in 1081 bytes} [Wed May 22 22:57:32 2013] GET /?zipcode=10025&num_hours=12 => generated 4215 bytes in 31 msecs (HTTP/1.1 200) 3 headers in 195 bytes (1 switches on core 0)\r\n"
     ]
    }
   ],
   "source": [
    "!head -n1 zipcodes_only.txt"
   ]
  },
  {
   "cell_type": "code",
   "execution_count": 4,
   "metadata": {
    "collapsed": false
   },
   "outputs": [
    {
     "data": {
      "text/plain": [
       "datetime.date(2014, 2, 1)"
      ]
     },
     "execution_count": 4,
     "metadata": {},
     "output_type": "execute_result"
    }
   ],
   "source": [
    "dateparse('Sat Feb  1 21:32:21 2014').date()"
   ]
  },
  {
   "cell_type": "code",
   "execution_count": 5,
   "metadata": {
    "collapsed": false
   },
   "outputs": [],
   "source": [
    "pattern = re.compile(r'bytes\\}\\s+\\[(.*)\\].*zipcode=(\\d\\d\\d\\d\\d)')\n",
    "with open('cleaned.csv', 'w') as outfile:\n",
    "    print('date,zipcode', file=outfile)\n",
    "    for line in open('zipcodes_only.txt'):\n",
    "        m = re.search(pattern, line)\n",
    "        if m is None:\n",
    "            continue\n",
    "        date, zipcode = m.group(1), m.group(2)\n",
    "        date = dateparse(date).date()\n",
    "        print(date, zipcode, file=outfile, sep=',')"
   ]
  },
  {
   "cell_type": "code",
   "execution_count": 14,
   "metadata": {
    "collapsed": false
   },
   "outputs": [
    {
     "data": {
      "text/plain": [
       "zipcode\n",
       "10027      158\n",
       "08901       25\n",
       "94110       17\n",
       "11205       11\n",
       "37401       11\n",
       "89044        8\n",
       "92109        5\n",
       "92119        4\n",
       "77001        3\n",
       "35987        3\n",
       "05350        3\n",
       "10010        3\n",
       "90401        2\n",
       "10029        2\n",
       "02139        1\n",
       "96143        1\n",
       "10025        1\n",
       "10065        1\n",
       "02108        1\n",
       "dtype: int64"
      ]
     },
     "execution_count": 14,
     "metadata": {},
     "output_type": "execute_result"
    }
   ],
   "source": [
    "data = pd.read_csv('cleaned.csv', dtype=str)\n",
    "cutoff = '2015-01-01'\n",
    "data = data.query('date >= @cutoff')\n",
    "agg = data.groupby('zipcode').size()\n",
    "agg.order(ascending=False).head(20)"
   ]
  },
  {
   "cell_type": "code",
   "execution_count": 13,
   "metadata": {
    "collapsed": false
   },
   "outputs": [
    {
     "data": {
      "text/plain": [
       "date        zipcode\n",
       "2015-02-10  94110      1\n",
       "2015-02-11  10027      2\n",
       "2015-02-12  10027      2\n",
       "2015-02-13  10027      1\n",
       "2015-02-14  10027      3\n",
       "2015-02-15  05350      1\n",
       "            10027      4\n",
       "2015-02-16  10027      6\n",
       "2015-02-17  10010      1\n",
       "            10027      5\n",
       "            10065      1\n",
       "            94110      1\n",
       "2015-02-18  10027      3\n",
       "2015-02-19  08901      1\n",
       "            10025      1\n",
       "            10027      4\n",
       "            94110      3\n",
       "            96143      1\n",
       "2015-02-20  10027      4\n",
       "2015-02-21  10027      2\n",
       "2015-02-22  10027      3\n",
       "            92109      1\n",
       "2015-02-23  10027      1\n",
       "            37401      4\n",
       "2015-02-24  10027      9\n",
       "            11205      3\n",
       "            35987      3\n",
       "            37401      4\n",
       "2015-02-25  11205      1\n",
       "            37401      1\n",
       "2015-02-26  10027      6\n",
       "            37401      2\n",
       "2015-02-27  11205      1\n",
       "            89044      4\n",
       "2015-02-28  10027      2\n",
       "            11205      1\n",
       "            89044      2\n",
       "            92109      2\n",
       "2015-03-01  02139      1\n",
       "            10027      3\n",
       "            89044      1\n",
       "            92109      1\n",
       "2015-03-02  10027      4\n",
       "            89044      1\n",
       "2015-03-03  08901      1\n",
       "            10027      2\n",
       "2015-03-04  08901      2\n",
       "            10027      5\n",
       "            11205      2\n",
       "2015-03-05  10027      1\n",
       "dtype: int64"
      ]
     },
     "execution_count": 13,
     "metadata": {},
     "output_type": "execute_result"
    }
   ],
   "source": [
    "agg = data.groupby(['date', 'zipcode']).size()\n",
    "agg.tail(50)"
   ]
  },
  {
   "cell_type": "code",
   "execution_count": null,
   "metadata": {
    "collapsed": true
   },
   "outputs": [],
   "source": []
  }
 ],
 "metadata": {
  "kernelspec": {
   "display_name": "Python 3",
   "language": "python",
   "name": "python3"
  },
  "language_info": {
   "codemirror_mode": {
    "name": "ipython",
    "version": 3
   },
   "file_extension": ".py",
   "mimetype": "text/x-python",
   "name": "python",
   "nbconvert_exporter": "python",
   "pygments_lexer": "ipython3",
   "version": "3.4.2"
  }
 },
 "nbformat": 4,
 "nbformat_minor": 0
}
